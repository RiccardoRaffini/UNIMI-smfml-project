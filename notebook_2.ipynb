{
 "cells": [
  {
   "cell_type": "markdown",
   "metadata": {},
   "source": [
    "# Hyperparameters tuning"
   ]
  },
  {
   "cell_type": "code",
   "execution_count": 1,
   "metadata": {},
   "outputs": [],
   "source": [
    "import sys\n",
    "sys.path.append('..')\n",
    "\n",
    "import numpy as np\n",
    "import pandas as pd\n",
    "from sklearn.model_selection import train_test_split\n",
    "\n",
    "from datasets.methods import dataset_information, delete_dataset_features, fill_dataset_samples, extract_samples_labels\n",
    "from predictors.treepredictors import TreePredictor\n",
    "from commons.stopping_criteria import NodeImpurityLevel, NodeMinimumSamples\n",
    "from commons.splitting_criteria import ThresholdCondition, MembershipCondition\n",
    "from commons.splitting_criteria import information_gain\n",
    "from commons.losses import zero_one_loss, samples_error, create_folds, cross_validation\n",
    "from commons.plotting import plot_train_test_error, plot_confusion_matrices"
   ]
  },
  {
   "cell_type": "markdown",
   "metadata": {},
   "source": [
    "## Dataset & preprocessing"
   ]
  },
  {
   "cell_type": "code",
   "execution_count": 2,
   "metadata": {},
   "outputs": [],
   "source": [
    "## CONSTANTS\n",
    "\n",
    "DATASET_FILENAME = 'datasets/mushroom_secondary.csv'\n",
    "SAMPLES_NUMBER = 10_000\n",
    "DELETION_THRESHOLD = 0.20\n",
    "IMPUTATION_VALUE = 'u'\n",
    "NORMALIZATION = True"
   ]
  },
  {
   "cell_type": "code",
   "execution_count": 3,
   "metadata": {},
   "outputs": [],
   "source": [
    "## Loading dataset\n",
    "\n",
    "mushroom_dataset = pd.read_csv(DATASET_FILENAME, sep=';', nrows=SAMPLES_NUMBER)\n",
    "\n",
    "## Dataset preprocessing\n",
    "\n",
    "mushroom_dataset = delete_dataset_features(mushroom_dataset, DELETION_THRESHOLD)\n",
    "mushroom_dataset = fill_dataset_samples(mushroom_dataset, IMPUTATION_VALUE)\n",
    "samples_set, labels_set = extract_samples_labels(mushroom_dataset)"
   ]
  },
  {
   "cell_type": "markdown",
   "metadata": {},
   "source": [
    "## Train and test split"
   ]
  },
  {
   "cell_type": "code",
   "execution_count": 4,
   "metadata": {},
   "outputs": [],
   "source": [
    "## CONSTANTS\n",
    "\n",
    "RANDOM_SEED = 1234\n",
    "TEST_SIZE = 0.2\n",
    "SHUFFLE = True"
   ]
  },
  {
   "cell_type": "code",
   "execution_count": 5,
   "metadata": {},
   "outputs": [
    {
     "name": "stdout",
     "output_type": "stream",
     "text": [
      "Original dataset size: 10000\n",
      "Train set size:        8000\n",
      "Test set size:         2000\n"
     ]
    }
   ],
   "source": [
    "## Train and test split\n",
    "\n",
    "train_sample_set, test_sample_set, train_labels_set, test_labels_set = train_test_split(samples_set, labels_set, test_size=TEST_SIZE, shuffle=SHUFFLE, random_state=RANDOM_SEED)\n",
    "\n",
    "print(f'Original dataset size: {len(samples_set)}')\n",
    "print(f'Train set size:        {len(train_sample_set)}')\n",
    "print(f'Test set size:         {len(test_sample_set)}')"
   ]
  },
  {
   "cell_type": "code",
   "execution_count": 6,
   "metadata": {},
   "outputs": [],
   "source": [
    "## Hyperparameters (no limitations)\n",
    "\n",
    "continuous_condition = ThresholdCondition\n",
    "categorical_condition = MembershipCondition\n",
    "node_stopping_criteria = []\n",
    "tree_stopping_criteria = []\n",
    "decision_metric = information_gain"
   ]
  },
  {
   "cell_type": "code",
   "execution_count": 7,
   "metadata": {},
   "outputs": [],
   "source": [
    "## Model definition\n",
    "\n",
    "tree_predictor = TreePredictor(\n",
    "    continuous_condition=continuous_condition,\n",
    "    categorical_condition=categorical_condition,\n",
    "    decision_metric=decision_metric,\n",
    "    tree_stopping_criteria=tree_stopping_criteria,\n",
    "    node_stopping_criteria=node_stopping_criteria\n",
    ")"
   ]
  },
  {
   "cell_type": "code",
   "execution_count": 8,
   "metadata": {},
   "outputs": [],
   "source": [
    "## Model training\n",
    "\n",
    "tree_predictor.fit(train_sample_set, train_labels_set)"
   ]
  },
  {
   "cell_type": "code",
   "execution_count": 9,
   "metadata": {},
   "outputs": [
    {
     "name": "stdout",
     "output_type": "stream",
     "text": [
      "Train error: 0.0\n",
      "Test error:  0.003\n"
     ]
    }
   ],
   "source": [
    "## Model evaluation\n",
    "\n",
    "predictor = tree_predictor.predict\n",
    "misclassification_train_error = samples_error(predictor, zero_one_loss, train_labels_set, train_sample_set)\n",
    "misclassification_test_error = samples_error(predictor, zero_one_loss, test_labels_set, test_sample_set)\n",
    "\n",
    "print(f'Train error: {misclassification_train_error}')\n",
    "print(f'Test error:  {misclassification_test_error}')"
   ]
  },
  {
   "cell_type": "markdown",
   "metadata": {},
   "source": [
    "## Cross validation"
   ]
  },
  {
   "cell_type": "code",
   "execution_count": 15,
   "metadata": {},
   "outputs": [],
   "source": [
    "## CONSTANTS\n",
    "\n",
    "FOLDS = 5\n",
    "VERBOSE = True"
   ]
  },
  {
   "cell_type": "code",
   "execution_count": 16,
   "metadata": {},
   "outputs": [
    {
     "name": "stdout",
     "output_type": "stream",
     "text": [
      "Original dataset size: 10000\n",
      "Folds number:          5\n",
      "folds size:            2000\n"
     ]
    }
   ],
   "source": [
    "## Folds split\n",
    "\n",
    "np.random.seed(RANDOM_SEED)\n",
    "np.random.shuffle(samples_set)\n",
    "np.random.seed(RANDOM_SEED)\n",
    "np.random.shuffle(labels_set)\n",
    "\n",
    "data_folds = create_folds(samples_set, FOLDS)\n",
    "labels_folds = create_folds(labels_set, FOLDS)\n",
    "\n",
    "print(f'Original dataset size: {len(samples_set)}')\n",
    "print(f'Folds number:          {len(data_folds)}')\n",
    "print(f'folds size:            {len(data_folds[0])}')"
   ]
  },
  {
   "cell_type": "code",
   "execution_count": 17,
   "metadata": {},
   "outputs": [],
   "source": [
    "## Hyperparameters (no limitations)\n",
    "\n",
    "continuous_condition = ThresholdCondition\n",
    "categorical_condition = MembershipCondition\n",
    "node_stopping_criteria = []\n",
    "tree_stopping_criteria = []\n",
    "decision_metric = information_gain"
   ]
  },
  {
   "cell_type": "code",
   "execution_count": 18,
   "metadata": {},
   "outputs": [],
   "source": [
    "## Model definition\n",
    "\n",
    "tree_predictor = TreePredictor(\n",
    "    continuous_condition=continuous_condition,\n",
    "    categorical_condition=categorical_condition,\n",
    "    decision_metric=decision_metric,\n",
    "    tree_stopping_criteria=tree_stopping_criteria,\n",
    "    node_stopping_criteria=node_stopping_criteria\n",
    ")"
   ]
  },
  {
   "cell_type": "code",
   "execution_count": 19,
   "metadata": {},
   "outputs": [
    {
     "name": "stdout",
     "output_type": "stream",
     "text": [
      "Running cross validation on 5 folds of size 2000\n",
      "Fold 0 iteration:\n",
      "Training model on folds [-0]...\n",
      "Testing model on fold [0]...\n",
      "> fold [0] error: 0.003\n",
      "Fold 1 iteration:\n",
      "Training model on folds [-1]...\n",
      "Testing model on fold [1]...\n",
      "> fold [1] error: 0.002\n",
      "Fold 2 iteration:\n",
      "Training model on folds [-2]...\n",
      "Testing model on fold [2]...\n",
      "> fold [2] error: 0.0015\n",
      "Fold 3 iteration:\n",
      "Training model on folds [-3]...\n",
      "Testing model on fold [3]...\n",
      "> fold [3] error: 0.0015\n",
      "Fold 4 iteration:\n",
      "Training model on folds [-4]...\n",
      "Testing model on fold [4]...\n",
      "> fold [4] error: 0.0025\n",
      ">> final cross validation value: 0.0021000000000000003\n",
      "final cross validation estimation: 0.0021000000000000003\n"
     ]
    }
   ],
   "source": [
    "## Cross validation\n",
    "\n",
    "cross_validation_value = cross_validation(tree_predictor, zero_one_loss, data_folds, labels_folds, VERBOSE)\n",
    "\n",
    "print(f'final cross validation estimation: {cross_validation_value}')"
   ]
  }
 ],
 "metadata": {
  "kernelspec": {
   "display_name": "Python 3",
   "language": "python",
   "name": "python3"
  },
  "language_info": {
   "codemirror_mode": {
    "name": "ipython",
    "version": 3
   },
   "file_extension": ".py",
   "mimetype": "text/x-python",
   "name": "python",
   "nbconvert_exporter": "python",
   "pygments_lexer": "ipython3",
   "version": "3.11.5"
  }
 },
 "nbformat": 4,
 "nbformat_minor": 2
}
