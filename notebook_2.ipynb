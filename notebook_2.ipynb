{
 "cells": [
  {
   "cell_type": "markdown",
   "metadata": {},
   "source": [
    "# Hyperparameters tuning"
   ]
  },
  {
   "cell_type": "code",
   "execution_count": 1,
   "metadata": {},
   "outputs": [],
   "source": [
    "import sys\n",
    "sys.path.append('..')\n",
    "\n",
    "import numpy as np\n",
    "import pandas as pd\n",
    "import itertools\n",
    "import matplotlib.pyplot as plt\n",
    "from sklearn.metrics import confusion_matrix, ConfusionMatrixDisplay\n",
    "from sklearn.model_selection import train_test_split\n",
    "\n",
    "from datasets.methods import dataset_information, delete_dataset_features, fill_dataset_samples, extract_samples_labels\n",
    "from predictors.treepredictors import TreePredictor\n",
    "from commons.stopping_criteria import TreeMaximumDepth, TreeMaximumLeaves, TreeMaximumNodes, NodeMinimumSamples, NodeImpurityLevel\n",
    "from commons.splitting_criteria import ThresholdCondition, MembershipCondition\n",
    "from commons.splitting_criteria import information_gain, entropy\n",
    "from commons.losses import zero_one_loss, samples_error, create_folds, cross_validation, flat_cross_validation\n",
    "from commons.plotting import plot_train_test_error, plot_confusion_matrices"
   ]
  },
  {
   "cell_type": "markdown",
   "metadata": {},
   "source": [
    "## Dataset & preprocessing"
   ]
  },
  {
   "cell_type": "code",
   "execution_count": 2,
   "metadata": {},
   "outputs": [],
   "source": [
    "## CONSTANTS\n",
    "\n",
    "DATASET_FILENAME = 'datasets/mushroom_secondary.csv'\n",
    "SAMPLES_NUMBER = 10_000\n",
    "DELETION_THRESHOLD = 0.20\n",
    "IMPUTATION_VALUE = 'u'\n",
    "NORMALIZATION = True\n",
    "RANDOM_SEED = 1234"
   ]
  },
  {
   "cell_type": "code",
   "execution_count": 3,
   "metadata": {},
   "outputs": [],
   "source": [
    "## Loading dataset\n",
    "\n",
    "mushroom_dataset = pd.read_csv(DATASET_FILENAME, sep=';')\n",
    "mushroom_dataset = mushroom_dataset.sample(SAMPLES_NUMBER, random_state=RANDOM_SEED)\n",
    "\n",
    "## Dataset preprocessing\n",
    "\n",
    "mushroom_dataset = delete_dataset_features(mushroom_dataset, DELETION_THRESHOLD)\n",
    "mushroom_dataset = fill_dataset_samples(mushroom_dataset, IMPUTATION_VALUE)\n",
    "samples_set, labels_set = extract_samples_labels(mushroom_dataset)"
   ]
  },
  {
   "cell_type": "markdown",
   "metadata": {},
   "source": [
    "## Train and test split"
   ]
  },
  {
   "cell_type": "code",
   "execution_count": 4,
   "metadata": {},
   "outputs": [],
   "source": [
    "## CONSTANTS\n",
    "\n",
    "RANDOM_SEED = 1234\n",
    "TEST_SIZE = 0.2\n",
    "SHUFFLE = True"
   ]
  },
  {
   "cell_type": "code",
   "execution_count": 5,
   "metadata": {},
   "outputs": [
    {
     "name": "stdout",
     "output_type": "stream",
     "text": [
      "Original dataset size: 10000\n",
      "Train set size:        8000\n",
      "Test set size:         2000\n"
     ]
    }
   ],
   "source": [
    "## Train and test split\n",
    "\n",
    "train_sample_set, test_sample_set, train_labels_set, test_labels_set = train_test_split(samples_set, labels_set, test_size=TEST_SIZE, shuffle=SHUFFLE, random_state=RANDOM_SEED)\n",
    "\n",
    "print(f'Original dataset size: {len(samples_set)}')\n",
    "print(f'Train set size:        {len(train_sample_set)}')\n",
    "print(f'Test set size:         {len(test_sample_set)}')"
   ]
  },
  {
   "cell_type": "code",
   "execution_count": 6,
   "metadata": {},
   "outputs": [],
   "source": [
    "## Hyperparameters (no limitations)\n",
    "\n",
    "continuous_condition = ThresholdCondition\n",
    "categorical_condition = MembershipCondition\n",
    "node_stopping_criteria = []\n",
    "tree_stopping_criteria = []\n",
    "decision_metric = information_gain"
   ]
  },
  {
   "cell_type": "code",
   "execution_count": 7,
   "metadata": {},
   "outputs": [],
   "source": [
    "## Model definition\n",
    "\n",
    "tree_predictor = TreePredictor(\n",
    "    continuous_condition=continuous_condition,\n",
    "    categorical_condition=categorical_condition,\n",
    "    decision_metric=decision_metric,\n",
    "    tree_stopping_criteria=tree_stopping_criteria,\n",
    "    node_stopping_criteria=node_stopping_criteria\n",
    ")"
   ]
  },
  {
   "cell_type": "code",
   "execution_count": 8,
   "metadata": {},
   "outputs": [
    {
     "name": "stdout",
     "output_type": "stream",
     "text": [
      "Tree depth: 24\n",
      "Tree total nodes: 447\n",
      "Tree leaf nodes: 224\n"
     ]
    }
   ],
   "source": [
    "## Model training\n",
    "\n",
    "tree_predictor.fit(train_sample_set, train_labels_set)\n",
    "\n",
    "print(f'Tree depth: {tree_predictor._depth}')\n",
    "print(f'Tree total nodes: {tree_predictor._nodes_count}')\n",
    "print(f'Tree leaf nodes: {tree_predictor._leaves_count}')"
   ]
  },
  {
   "cell_type": "code",
   "execution_count": 9,
   "metadata": {},
   "outputs": [
    {
     "name": "stdout",
     "output_type": "stream",
     "text": [
      "Train error: 0.0\n",
      "Test error:  0.017\n"
     ]
    }
   ],
   "source": [
    "## Model evaluation\n",
    "\n",
    "predictor = tree_predictor.predict\n",
    "train_error = samples_error(predictor, zero_one_loss, train_labels_set, train_sample_set)\n",
    "test_error = samples_error(predictor, zero_one_loss, test_labels_set, test_sample_set)\n",
    "\n",
    "print(f'Train error: {train_error}')\n",
    "print(f'Test error:  {test_error}')"
   ]
  },
  {
   "cell_type": "markdown",
   "metadata": {},
   "source": [
    "## Cross validation"
   ]
  },
  {
   "cell_type": "code",
   "execution_count": 10,
   "metadata": {},
   "outputs": [],
   "source": [
    "## CONSTANTS\n",
    "\n",
    "FOLDS = 5\n",
    "RANDOM_SEED = 1234\n",
    "VERBOSE = True"
   ]
  },
  {
   "cell_type": "code",
   "execution_count": 11,
   "metadata": {},
   "outputs": [
    {
     "name": "stdout",
     "output_type": "stream",
     "text": [
      "Original dataset size: 10000\n",
      "Folds number:          5\n",
      "folds size:            2000\n"
     ]
    }
   ],
   "source": [
    "## Folds split\n",
    "\n",
    "np.random.seed(RANDOM_SEED)\n",
    "np.random.shuffle(samples_set)\n",
    "np.random.seed(RANDOM_SEED)\n",
    "np.random.shuffle(labels_set)\n",
    "\n",
    "data_folds = create_folds(samples_set, FOLDS)\n",
    "labels_folds = create_folds(labels_set, FOLDS)\n",
    "\n",
    "print(f'Original dataset size: {len(samples_set)}')\n",
    "print(f'Folds number:          {len(data_folds)}')\n",
    "print(f'folds size:            {len(data_folds[0])}')"
   ]
  },
  {
   "cell_type": "code",
   "execution_count": 12,
   "metadata": {},
   "outputs": [],
   "source": [
    "## Hyperparameters (no limitations)\n",
    "\n",
    "continuous_condition = ThresholdCondition\n",
    "categorical_condition = MembershipCondition\n",
    "node_stopping_criteria = []\n",
    "tree_stopping_criteria = []\n",
    "decision_metric = information_gain"
   ]
  },
  {
   "cell_type": "code",
   "execution_count": 13,
   "metadata": {},
   "outputs": [],
   "source": [
    "## Model definition\n",
    "\n",
    "tree_predictor = TreePredictor(\n",
    "    continuous_condition=continuous_condition,\n",
    "    categorical_condition=categorical_condition,\n",
    "    decision_metric=decision_metric,\n",
    "    tree_stopping_criteria=tree_stopping_criteria,\n",
    "    node_stopping_criteria=node_stopping_criteria\n",
    ")"
   ]
  },
  {
   "cell_type": "code",
   "execution_count": 14,
   "metadata": {},
   "outputs": [
    {
     "name": "stdout",
     "output_type": "stream",
     "text": [
      "Running cross validation on 5 folds of size 2000\n",
      "Fold 0 iteration:\n",
      "Training model on folds [-0]...\n",
      "Testing model on fold [0]...\n",
      "> fold [0] error: 0.017\n",
      "Fold 1 iteration:\n",
      "Training model on folds [-1]...\n",
      "Testing model on fold [1]...\n",
      "> fold [1] error: 0.026\n",
      "Fold 2 iteration:\n",
      "Training model on folds [-2]...\n",
      "Testing model on fold [2]...\n",
      "> fold [2] error: 0.023\n",
      "Fold 3 iteration:\n",
      "Training model on folds [-3]...\n",
      "Testing model on fold [3]...\n",
      "> fold [3] error: 0.0135\n",
      "Fold 4 iteration:\n",
      "Training model on folds [-4]...\n",
      "Testing model on fold [4]...\n",
      "> fold [4] error: 0.017\n",
      ">> final cross validation value: 0.0193\n",
      "final cross validation estimation: 0.0193\n"
     ]
    }
   ],
   "source": [
    "## Cross validation\n",
    "\n",
    "cross_validation_value = cross_validation(tree_predictor, zero_one_loss, data_folds, labels_folds, VERBOSE)\n",
    "\n",
    "print(f'final cross validation estimation: {cross_validation_value}')"
   ]
  },
  {
   "cell_type": "markdown",
   "metadata": {},
   "source": [
    "## Flat Cross Validation"
   ]
  },
  {
   "cell_type": "code",
   "execution_count": 15,
   "metadata": {},
   "outputs": [],
   "source": [
    "## CONSTANTS\n",
    "\n",
    "FOLDS = 5\n",
    "VERBOSE = True\n",
    "\n",
    "TREE_MAXIMUM_DEPTH_START, TREE_MAXIMUM_DEPTH_END, TREE_MAXIMUM_DEPTH_STEP = 25, 26, 1\n",
    "TREE_MAXIMUM_LEAVES_START, TREE_MAXIMUM_LEAVES_END, TREE_MAXIMUM_LEAVES_STEP = 150, 250, 100\n",
    "TREE_MAXIMUM_NODES_START, TREE_MAXIMUM_NODES_END, TREE_MAXIMUM_NODES_STEP = 400, 501, 100\n",
    "NODE_MINIMUM_SAMPLES_START, NODE_MINIMUM_SAMPLES_END, NODE_MINIMUM_SAMPLES_STEP = 50, 156, 50\n",
    "IMPURITY_LEVEL_START, IMPURITY_LEVEL_END, IMPURITY_LEVEL_STEP = 0.0, 0.26, 0.25"
   ]
  },
  {
   "cell_type": "code",
   "execution_count": 16,
   "metadata": {},
   "outputs": [
    {
     "name": "stdout",
     "output_type": "stream",
     "text": [
      "Grid dimensions: 12\n",
      "Hyperparameters example: (<class 'commons.splitting_criteria.ThresholdCondition'>, <class 'commons.splitting_criteria.MembershipCondition'>, <function information_gain at 0x0000012A27648C20>, array([<commons.stopping_criteria.TreeMaximumDepth object at 0x0000012A27820B10>,\n",
      "       <commons.stopping_criteria.TreeMaximumLeaves object at 0x0000012A278224D0>,\n",
      "       <commons.stopping_criteria.TreeMaximumNodes object at 0x0000012A27822C50>],\n",
      "      dtype=object), array([<commons.stopping_criteria.NodeMinimumSamples object at 0x0000012A27569F50>,\n",
      "       <commons.stopping_criteria.NodeImpurityLevel object at 0x0000012A7F7C2810>],\n",
      "      dtype=object))\n"
     ]
    }
   ],
   "source": [
    "## Hyperparameters Grid\n",
    "\n",
    "continuous_condition_range = [ThresholdCondition]\n",
    "categorical_condition_range = [MembershipCondition]\n",
    "decision_metric_range = [information_gain]\n",
    "maximum_depths = [TreeMaximumDepth(depth) for depth in np.arange(TREE_MAXIMUM_DEPTH_START, TREE_MAXIMUM_DEPTH_END, TREE_MAXIMUM_DEPTH_STEP)]\n",
    "maximum_leaves = [TreeMaximumLeaves(number) for number in np.arange(TREE_MAXIMUM_LEAVES_START, TREE_MAXIMUM_LEAVES_END, TREE_MAXIMUM_LEAVES_STEP)]\n",
    "maximum_nodes = [TreeMaximumNodes(number) for number in np.arange(TREE_MAXIMUM_NODES_START, TREE_MAXIMUM_NODES_END, TREE_MAXIMUM_NODES_STEP)]\n",
    "tree_stopping_criteria_range = np.array(np.meshgrid(maximum_depths, maximum_leaves, maximum_nodes)).T.reshape(-1, 3)\n",
    "minimum_samples = [NodeMinimumSamples(number) for number in np.arange(NODE_MINIMUM_SAMPLES_START, NODE_MINIMUM_SAMPLES_END, NODE_MINIMUM_SAMPLES_STEP)]\n",
    "impurity_levels = [NodeImpurityLevel(entropy, threshold) for threshold in np.arange(IMPURITY_LEVEL_START, IMPURITY_LEVEL_END, IMPURITY_LEVEL_STEP)]\n",
    "node_stopping_criteria_range = np.array(np.meshgrid(minimum_samples, impurity_levels)).T.reshape(-1, 2)\n",
    "\n",
    "hyperparameters_grid = list(itertools.product(\n",
    "    continuous_condition_range,\n",
    "    categorical_condition_range,\n",
    "    decision_metric_range,\n",
    "    tree_stopping_criteria_range,\n",
    "    node_stopping_criteria_range\n",
    "))\n",
    "\n",
    "print(f'Grid dimensions: {len(hyperparameters_grid)}')\n",
    "print(f'Hyperparameters example: {hyperparameters_grid[0]}')"
   ]
  },
  {
   "cell_type": "code",
   "execution_count": 17,
   "metadata": {},
   "outputs": [
    {
     "name": "stdout",
     "output_type": "stream",
     "text": [
      "Running flat cross validation on 5 folds of size 2000\n",
      "- cross validation using parameters (<class 'commons.splitting_criteria.ThresholdCondition'>, <class 'commons.splitting_criteria.MembershipCondition'>, <function information_gain at 0x0000012A27648C20>, array([<commons.stopping_criteria.TreeMaximumDepth object at 0x0000012A27820B10>,\n",
      "       <commons.stopping_criteria.TreeMaximumLeaves object at 0x0000012A278224D0>,\n",
      "       <commons.stopping_criteria.TreeMaximumNodes object at 0x0000012A27822C50>],\n",
      "      dtype=object), array([<commons.stopping_criteria.NodeMinimumSamples object at 0x0000012A27569F50>,\n",
      "       <commons.stopping_criteria.NodeImpurityLevel object at 0x0000012A7F7C2810>],\n",
      "      dtype=object))\n",
      "Fold [-0] iteration:\n",
      "Training fold [-0] best model...\n",
      "Testing fold [0] best model...\n",
      "result: 0.055\n",
      "Fold [-1] iteration:\n",
      "Training fold [-1] best model...\n",
      "Testing fold [1] best model...\n",
      "result: 0.0555\n",
      "Fold [-2] iteration:\n",
      "Training fold [-2] best model...\n",
      "Testing fold [2] best model...\n",
      "result: 0.05\n",
      "Fold [-3] iteration:\n",
      "Training fold [-3] best model...\n",
      "Testing fold [3] best model...\n",
      "result: 0.047\n",
      "Fold [-4] iteration:\n",
      "Training fold [-4] best model...\n",
      "Testing fold [4] best model...\n",
      "result: 0.0455\n",
      "> Hyperparameter total loss: 0.253\n",
      "- cross validation using parameters (<class 'commons.splitting_criteria.ThresholdCondition'>, <class 'commons.splitting_criteria.MembershipCondition'>, <function information_gain at 0x0000012A27648C20>, array([<commons.stopping_criteria.TreeMaximumDepth object at 0x0000012A27820B10>,\n",
      "       <commons.stopping_criteria.TreeMaximumLeaves object at 0x0000012A278224D0>,\n",
      "       <commons.stopping_criteria.TreeMaximumNodes object at 0x0000012A27822C50>],\n",
      "      dtype=object), array([<commons.stopping_criteria.NodeMinimumSamples object at 0x0000012A27569F50>,\n",
      "       <commons.stopping_criteria.NodeImpurityLevel object at 0x0000012A278226D0>],\n",
      "      dtype=object))\n",
      "Fold [-0] iteration:\n",
      "Training fold [-0] best model...\n",
      "Testing fold [0] best model...\n",
      "result: 0.059\n",
      "Fold [-1] iteration:\n",
      "Training fold [-1] best model...\n",
      "Testing fold [1] best model...\n",
      "result: 0.061\n",
      "Fold [-2] iteration:\n",
      "Training fold [-2] best model...\n",
      "Testing fold [2] best model...\n",
      "result: 0.05\n",
      "Fold [-3] iteration:\n",
      "Training fold [-3] best model...\n",
      "Testing fold [3] best model...\n",
      "result: 0.051\n",
      "Fold [-4] iteration:\n",
      "Training fold [-4] best model...\n",
      "Testing fold [4] best model...\n",
      "result: 0.053\n",
      "> Hyperparameter total loss: 0.27399999999999997\n",
      "- cross validation using parameters (<class 'commons.splitting_criteria.ThresholdCondition'>, <class 'commons.splitting_criteria.MembershipCondition'>, <function information_gain at 0x0000012A27648C20>, array([<commons.stopping_criteria.TreeMaximumDepth object at 0x0000012A27820B10>,\n",
      "       <commons.stopping_criteria.TreeMaximumLeaves object at 0x0000012A278224D0>,\n",
      "       <commons.stopping_criteria.TreeMaximumNodes object at 0x0000012A27822C50>],\n",
      "      dtype=object), array([<commons.stopping_criteria.NodeMinimumSamples object at 0x0000012A27821C90>,\n",
      "       <commons.stopping_criteria.NodeImpurityLevel object at 0x0000012A7F7C2810>],\n",
      "      dtype=object))\n",
      "Fold [-0] iteration:\n",
      "Training fold [-0] best model...\n",
      "Testing fold [0] best model...\n",
      "result: 0.0685\n",
      "Fold [-1] iteration:\n",
      "Training fold [-1] best model...\n",
      "Testing fold [1] best model...\n",
      "result: 0.0605\n",
      "Fold [-2] iteration:\n",
      "Training fold [-2] best model...\n",
      "Testing fold [2] best model...\n",
      "result: 0.075\n",
      "Fold [-3] iteration:\n",
      "Training fold [-3] best model...\n",
      "Testing fold [3] best model...\n",
      "result: 0.079\n",
      "Fold [-4] iteration:\n",
      "Training fold [-4] best model...\n",
      "Testing fold [4] best model...\n",
      "result: 0.0795\n",
      "> Hyperparameter total loss: 0.36250000000000004\n",
      "- cross validation using parameters (<class 'commons.splitting_criteria.ThresholdCondition'>, <class 'commons.splitting_criteria.MembershipCondition'>, <function information_gain at 0x0000012A27648C20>, array([<commons.stopping_criteria.TreeMaximumDepth object at 0x0000012A27820B10>,\n",
      "       <commons.stopping_criteria.TreeMaximumLeaves object at 0x0000012A278224D0>,\n",
      "       <commons.stopping_criteria.TreeMaximumNodes object at 0x0000012A27822C50>],\n",
      "      dtype=object), array([<commons.stopping_criteria.NodeMinimumSamples object at 0x0000012A27821C90>,\n",
      "       <commons.stopping_criteria.NodeImpurityLevel object at 0x0000012A278226D0>],\n",
      "      dtype=object))\n",
      "Fold [-0] iteration:\n",
      "Training fold [-0] best model...\n",
      "Testing fold [0] best model...\n",
      "result: 0.0715\n",
      "Fold [-1] iteration:\n",
      "Training fold [-1] best model...\n",
      "Testing fold [1] best model...\n",
      "result: 0.066\n",
      "Fold [-2] iteration:\n",
      "Training fold [-2] best model...\n",
      "Testing fold [2] best model...\n",
      "result: 0.074\n",
      "Fold [-3] iteration:\n",
      "Training fold [-3] best model...\n",
      "Testing fold [3] best model...\n",
      "result: 0.0825\n",
      "Fold [-4] iteration:\n",
      "Training fold [-4] best model...\n",
      "Testing fold [4] best model...\n",
      "result: 0.081\n",
      "> Hyperparameter total loss: 0.37500000000000006\n",
      "- cross validation using parameters (<class 'commons.splitting_criteria.ThresholdCondition'>, <class 'commons.splitting_criteria.MembershipCondition'>, <function information_gain at 0x0000012A27648C20>, array([<commons.stopping_criteria.TreeMaximumDepth object at 0x0000012A27820B10>,\n",
      "       <commons.stopping_criteria.TreeMaximumLeaves object at 0x0000012A278224D0>,\n",
      "       <commons.stopping_criteria.TreeMaximumNodes object at 0x0000012A27822C50>],\n",
      "      dtype=object), array([<commons.stopping_criteria.NodeMinimumSamples object at 0x0000012A27821290>,\n",
      "       <commons.stopping_criteria.NodeImpurityLevel object at 0x0000012A7F7C2810>],\n",
      "      dtype=object))\n",
      "Fold [-0] iteration:\n",
      "Training fold [-0] best model...\n",
      "Testing fold [0] best model...\n",
      "result: 0.078\n",
      "Fold [-1] iteration:\n",
      "Training fold [-1] best model...\n",
      "Testing fold [1] best model...\n",
      "result: 0.0655\n",
      "Fold [-2] iteration:\n",
      "Training fold [-2] best model...\n",
      "Testing fold [2] best model...\n",
      "result: 0.0905\n",
      "Fold [-3] iteration:\n",
      "Training fold [-3] best model...\n",
      "Testing fold [3] best model...\n",
      "result: 0.1015\n",
      "Fold [-4] iteration:\n",
      "Training fold [-4] best model...\n",
      "Testing fold [4] best model...\n",
      "result: 0.102\n",
      "> Hyperparameter total loss: 0.4375\n",
      "- cross validation using parameters (<class 'commons.splitting_criteria.ThresholdCondition'>, <class 'commons.splitting_criteria.MembershipCondition'>, <function information_gain at 0x0000012A27648C20>, array([<commons.stopping_criteria.TreeMaximumDepth object at 0x0000012A27820B10>,\n",
      "       <commons.stopping_criteria.TreeMaximumLeaves object at 0x0000012A278224D0>,\n",
      "       <commons.stopping_criteria.TreeMaximumNodes object at 0x0000012A27822C50>],\n",
      "      dtype=object), array([<commons.stopping_criteria.NodeMinimumSamples object at 0x0000012A27821290>,\n",
      "       <commons.stopping_criteria.NodeImpurityLevel object at 0x0000012A278226D0>],\n",
      "      dtype=object))\n",
      "Fold [-0] iteration:\n",
      "Training fold [-0] best model...\n",
      "Testing fold [0] best model...\n",
      "result: 0.0815\n",
      "Fold [-1] iteration:\n",
      "Training fold [-1] best model...\n",
      "Testing fold [1] best model...\n",
      "result: 0.07\n",
      "Fold [-2] iteration:\n",
      "Training fold [-2] best model...\n",
      "Testing fold [2] best model...\n",
      "result: 0.0905\n",
      "Fold [-3] iteration:\n",
      "Training fold [-3] best model...\n",
      "Testing fold [3] best model...\n",
      "result: 0.1025\n",
      "Fold [-4] iteration:\n",
      "Training fold [-4] best model...\n",
      "Testing fold [4] best model...\n",
      "result: 0.103\n",
      "> Hyperparameter total loss: 0.4475\n",
      "- cross validation using parameters (<class 'commons.splitting_criteria.ThresholdCondition'>, <class 'commons.splitting_criteria.MembershipCondition'>, <function information_gain at 0x0000012A27648C20>, array([<commons.stopping_criteria.TreeMaximumDepth object at 0x0000012A27820B10>,\n",
      "       <commons.stopping_criteria.TreeMaximumLeaves object at 0x0000012A278224D0>,\n",
      "       <commons.stopping_criteria.TreeMaximumNodes object at 0x0000012A27820550>],\n",
      "      dtype=object), array([<commons.stopping_criteria.NodeMinimumSamples object at 0x0000012A27569F50>,\n",
      "       <commons.stopping_criteria.NodeImpurityLevel object at 0x0000012A7F7C2810>],\n",
      "      dtype=object))\n",
      "Fold [-0] iteration:\n",
      "Training fold [-0] best model...\n",
      "Testing fold [0] best model...\n",
      "result: 0.055\n",
      "Fold [-1] iteration:\n",
      "Training fold [-1] best model...\n",
      "Testing fold [1] best model...\n",
      "result: 0.0555\n",
      "Fold [-2] iteration:\n",
      "Training fold [-2] best model...\n",
      "Testing fold [2] best model...\n",
      "result: 0.05\n",
      "Fold [-3] iteration:\n",
      "Training fold [-3] best model...\n",
      "Testing fold [3] best model...\n",
      "result: 0.047\n",
      "Fold [-4] iteration:\n",
      "Training fold [-4] best model...\n",
      "Testing fold [4] best model...\n",
      "result: 0.0455\n",
      "> Hyperparameter total loss: 0.253\n",
      "- cross validation using parameters (<class 'commons.splitting_criteria.ThresholdCondition'>, <class 'commons.splitting_criteria.MembershipCondition'>, <function information_gain at 0x0000012A27648C20>, array([<commons.stopping_criteria.TreeMaximumDepth object at 0x0000012A27820B10>,\n",
      "       <commons.stopping_criteria.TreeMaximumLeaves object at 0x0000012A278224D0>,\n",
      "       <commons.stopping_criteria.TreeMaximumNodes object at 0x0000012A27820550>],\n",
      "      dtype=object), array([<commons.stopping_criteria.NodeMinimumSamples object at 0x0000012A27569F50>,\n",
      "       <commons.stopping_criteria.NodeImpurityLevel object at 0x0000012A278226D0>],\n",
      "      dtype=object))\n",
      "Fold [-0] iteration:\n",
      "Training fold [-0] best model...\n",
      "Testing fold [0] best model...\n",
      "result: 0.059\n",
      "Fold [-1] iteration:\n",
      "Training fold [-1] best model...\n",
      "Testing fold [1] best model...\n",
      "result: 0.061\n",
      "Fold [-2] iteration:\n",
      "Training fold [-2] best model...\n",
      "Testing fold [2] best model...\n",
      "result: 0.05\n",
      "Fold [-3] iteration:\n",
      "Training fold [-3] best model...\n",
      "Testing fold [3] best model...\n",
      "result: 0.051\n",
      "Fold [-4] iteration:\n",
      "Training fold [-4] best model...\n",
      "Testing fold [4] best model...\n",
      "result: 0.053\n",
      "> Hyperparameter total loss: 0.27399999999999997\n",
      "- cross validation using parameters (<class 'commons.splitting_criteria.ThresholdCondition'>, <class 'commons.splitting_criteria.MembershipCondition'>, <function information_gain at 0x0000012A27648C20>, array([<commons.stopping_criteria.TreeMaximumDepth object at 0x0000012A27820B10>,\n",
      "       <commons.stopping_criteria.TreeMaximumLeaves object at 0x0000012A278224D0>,\n",
      "       <commons.stopping_criteria.TreeMaximumNodes object at 0x0000012A27820550>],\n",
      "      dtype=object), array([<commons.stopping_criteria.NodeMinimumSamples object at 0x0000012A27821C90>,\n",
      "       <commons.stopping_criteria.NodeImpurityLevel object at 0x0000012A7F7C2810>],\n",
      "      dtype=object))\n",
      "Fold [-0] iteration:\n",
      "Training fold [-0] best model...\n",
      "Testing fold [0] best model...\n",
      "result: 0.0685\n",
      "Fold [-1] iteration:\n",
      "Training fold [-1] best model...\n",
      "Testing fold [1] best model...\n",
      "result: 0.0605\n",
      "Fold [-2] iteration:\n",
      "Training fold [-2] best model...\n",
      "Testing fold [2] best model...\n",
      "result: 0.075\n",
      "Fold [-3] iteration:\n",
      "Training fold [-3] best model...\n",
      "Testing fold [3] best model...\n",
      "result: 0.079\n",
      "Fold [-4] iteration:\n",
      "Training fold [-4] best model...\n",
      "Testing fold [4] best model...\n",
      "result: 0.0795\n",
      "> Hyperparameter total loss: 0.36250000000000004\n",
      "- cross validation using parameters (<class 'commons.splitting_criteria.ThresholdCondition'>, <class 'commons.splitting_criteria.MembershipCondition'>, <function information_gain at 0x0000012A27648C20>, array([<commons.stopping_criteria.TreeMaximumDepth object at 0x0000012A27820B10>,\n",
      "       <commons.stopping_criteria.TreeMaximumLeaves object at 0x0000012A278224D0>,\n",
      "       <commons.stopping_criteria.TreeMaximumNodes object at 0x0000012A27820550>],\n",
      "      dtype=object), array([<commons.stopping_criteria.NodeMinimumSamples object at 0x0000012A27821C90>,\n",
      "       <commons.stopping_criteria.NodeImpurityLevel object at 0x0000012A278226D0>],\n",
      "      dtype=object))\n",
      "Fold [-0] iteration:\n",
      "Training fold [-0] best model...\n",
      "Testing fold [0] best model...\n",
      "result: 0.0715\n",
      "Fold [-1] iteration:\n",
      "Training fold [-1] best model...\n",
      "Testing fold [1] best model...\n",
      "result: 0.066\n",
      "Fold [-2] iteration:\n",
      "Training fold [-2] best model...\n",
      "Testing fold [2] best model...\n",
      "result: 0.074\n",
      "Fold [-3] iteration:\n",
      "Training fold [-3] best model...\n",
      "Testing fold [3] best model...\n",
      "result: 0.0825\n",
      "Fold [-4] iteration:\n",
      "Training fold [-4] best model...\n",
      "Testing fold [4] best model...\n",
      "result: 0.081\n",
      "> Hyperparameter total loss: 0.37500000000000006\n",
      "- cross validation using parameters (<class 'commons.splitting_criteria.ThresholdCondition'>, <class 'commons.splitting_criteria.MembershipCondition'>, <function information_gain at 0x0000012A27648C20>, array([<commons.stopping_criteria.TreeMaximumDepth object at 0x0000012A27820B10>,\n",
      "       <commons.stopping_criteria.TreeMaximumLeaves object at 0x0000012A278224D0>,\n",
      "       <commons.stopping_criteria.TreeMaximumNodes object at 0x0000012A27820550>],\n",
      "      dtype=object), array([<commons.stopping_criteria.NodeMinimumSamples object at 0x0000012A27821290>,\n",
      "       <commons.stopping_criteria.NodeImpurityLevel object at 0x0000012A7F7C2810>],\n",
      "      dtype=object))\n",
      "Fold [-0] iteration:\n",
      "Training fold [-0] best model...\n",
      "Testing fold [0] best model...\n",
      "result: 0.078\n",
      "Fold [-1] iteration:\n",
      "Training fold [-1] best model...\n",
      "Testing fold [1] best model...\n",
      "result: 0.0655\n",
      "Fold [-2] iteration:\n",
      "Training fold [-2] best model...\n",
      "Testing fold [2] best model...\n",
      "result: 0.0905\n",
      "Fold [-3] iteration:\n",
      "Training fold [-3] best model...\n",
      "Testing fold [3] best model...\n",
      "result: 0.1015\n",
      "Fold [-4] iteration:\n",
      "Training fold [-4] best model...\n",
      "Testing fold [4] best model...\n",
      "result: 0.102\n",
      "> Hyperparameter total loss: 0.4375\n",
      "- cross validation using parameters (<class 'commons.splitting_criteria.ThresholdCondition'>, <class 'commons.splitting_criteria.MembershipCondition'>, <function information_gain at 0x0000012A27648C20>, array([<commons.stopping_criteria.TreeMaximumDepth object at 0x0000012A27820B10>,\n",
      "       <commons.stopping_criteria.TreeMaximumLeaves object at 0x0000012A278224D0>,\n",
      "       <commons.stopping_criteria.TreeMaximumNodes object at 0x0000012A27820550>],\n",
      "      dtype=object), array([<commons.stopping_criteria.NodeMinimumSamples object at 0x0000012A27821290>,\n",
      "       <commons.stopping_criteria.NodeImpurityLevel object at 0x0000012A278226D0>],\n",
      "      dtype=object))\n",
      "Fold [-0] iteration:\n",
      "Training fold [-0] best model...\n",
      "Testing fold [0] best model...\n",
      "result: 0.0815\n",
      "Fold [-1] iteration:\n",
      "Training fold [-1] best model...\n",
      "Testing fold [1] best model...\n",
      "result: 0.07\n",
      "Fold [-2] iteration:\n",
      "Training fold [-2] best model...\n",
      "Testing fold [2] best model...\n",
      "result: 0.0905\n",
      "Fold [-3] iteration:\n",
      "Training fold [-3] best model...\n",
      "Testing fold [3] best model...\n",
      "result: 0.1025\n",
      "Fold [-4] iteration:\n",
      "Training fold [-4] best model...\n",
      "Testing fold [4] best model...\n",
      "result: 0.103\n",
      "> Hyperparameter total loss: 0.4475\n",
      ">> Final best hyperparameters: (<class 'commons.splitting_criteria.ThresholdCondition'>, <class 'commons.splitting_criteria.MembershipCondition'>, <function information_gain at 0x0000012A27648C20>, array([<commons.stopping_criteria.TreeMaximumDepth object at 0x0000012A27820B10>,\n",
      "       <commons.stopping_criteria.TreeMaximumLeaves object at 0x0000012A278224D0>,\n",
      "       <commons.stopping_criteria.TreeMaximumNodes object at 0x0000012A27822C50>],\n",
      "      dtype=object), array([<commons.stopping_criteria.NodeMinimumSamples object at 0x0000012A27569F50>,\n",
      "       <commons.stopping_criteria.NodeImpurityLevel object at 0x0000012A7F7C2810>],\n",
      "      dtype=object))\n",
      ">> Final flat cross validation error: 0.0506\n"
     ]
    }
   ],
   "source": [
    "## Flat Cross Validation\n",
    "\n",
    "ncv_value, best_hyperparameters = flat_cross_validation(TreePredictor, zero_one_loss, samples_set, labels_set, FOLDS, hyperparameters_grid, VERBOSE)"
   ]
  },
  {
   "cell_type": "code",
   "execution_count": 18,
   "metadata": {},
   "outputs": [
    {
     "name": "stdout",
     "output_type": "stream",
     "text": [
      "final nested cross validation value: 0.0506\n",
      "Best hyperparameters:\n",
      "continuous condition: ThresholdCondition\n",
      "categorical condition: MembershipCondition\n",
      "decision metric: information_gain\n",
      "tree stopping criteria: ['tree depth > 25', 'tree leaves count > 150', 'tree nodes count > 400']\n",
      "node stopping criteria: ['samples number <= 50', 'entropy impurity <= 0.0']\n"
     ]
    }
   ],
   "source": [
    "print(f'final nested cross validation value: {ncv_value}')\n",
    "print(f'Best hyperparameters:')\n",
    "print(f'continuous condition: {best_hyperparameters[0].__name__}')\n",
    "print(f'categorical condition: {best_hyperparameters[1].__name__}')\n",
    "print(f'decision metric: {best_hyperparameters[2].__name__}')\n",
    "print(f'tree stopping criteria: {[str(condition) for condition in best_hyperparameters[3]]}')\n",
    "print(f'node stopping criteria: {[str(condition) for condition in best_hyperparameters[4]]}')"
   ]
  },
  {
   "cell_type": "code",
   "execution_count": 19,
   "metadata": {},
   "outputs": [],
   "source": [
    "## Best model training\n",
    "\n",
    "continuous_condition = best_hyperparameters[0]\n",
    "categorical_condition = best_hyperparameters[1]\n",
    "decision_metric = best_hyperparameters[2]\n",
    "tree_stopping_criteria = best_hyperparameters[3]\n",
    "node_stopping_criteria = best_hyperparameters[4]\n",
    "\n",
    "best_model = TreePredictor(continuous_condition, categorical_condition, decision_metric, tree_stopping_criteria, node_stopping_criteria)\n",
    "\n",
    "train_sample_set, test_sample_set, train_labels_set, test_labels_set = train_test_split(samples_set, labels_set, test_size=TEST_SIZE, shuffle=SHUFFLE, random_state=RANDOM_SEED)\n",
    "\n",
    "best_model.fit(train_sample_set, train_labels_set)"
   ]
  },
  {
   "cell_type": "code",
   "execution_count": 20,
   "metadata": {},
   "outputs": [
    {
     "name": "stdout",
     "output_type": "stream",
     "text": [
      "Train error: 0.04625\n",
      "Test error:  0.054\n"
     ]
    }
   ],
   "source": [
    "## Best model evaluation\n",
    "\n",
    "predictor = best_model.predict\n",
    "train_error = samples_error(predictor, zero_one_loss, train_labels_set, train_sample_set)\n",
    "test_error = samples_error(predictor, zero_one_loss, test_labels_set, test_sample_set)\n",
    "\n",
    "print(f'Train error: {train_error}')\n",
    "print(f'Test error:  {test_error}')"
   ]
  },
  {
   "cell_type": "code",
   "execution_count": 21,
   "metadata": {},
   "outputs": [
    {
     "data": {
      "image/png": "[encoded data removed]",
      "text/plain": [
       "<Figure size 640x480 with 1 Axes>"
      ]
     },
     "metadata": {},
     "output_type": "display_data"
    }
   ],
   "source": [
    "plot_train_test_error(['Best model'], [train_error], [test_error])"
   ]
  },
  {
   "cell_type": "code",
   "execution_count": 22,
   "metadata": {},
   "outputs": [
    {
     "data": {
      "image/png": "[encoded data removed]",
      "text/plain": [
       "<Figure size 1000x500 with 4 Axes>"
      ]
     },
     "metadata": {},
     "output_type": "display_data"
    }
   ],
   "source": [
    "train_predictions = best_model.predict(train_sample_set)\n",
    "test_predictions = best_model.predict(test_sample_set)\n",
    "labels = ['edible', 'poisonous']\n",
    "\n",
    "train_confusion_matrix = confusion_matrix(train_labels_set, train_predictions, normalize='true')\n",
    "test_confusion_matrix = confusion_matrix(test_labels_set, test_predictions, normalize='true')\n",
    "\n",
    "fig, axes = plt.subplots(1, 2, figsize=(10, 5))\n",
    "fig.suptitle('Best model confusion matrix')\n",
    "plt.subplots_adjust(wspace=0.5)\n",
    "\n",
    "matrix_display = ConfusionMatrixDisplay(train_confusion_matrix, display_labels=labels)\n",
    "matrix_display.plot(ax=axes[0], xticks_rotation=45, cmap='Blues')\n",
    "matrix_display.ax_.set_title('Train samples')\n",
    "\n",
    "matrix_display = ConfusionMatrixDisplay(test_confusion_matrix, display_labels=labels)\n",
    "matrix_display.plot(ax=axes[1], xticks_rotation=45, cmap='Oranges')\n",
    "matrix_display.ax_.set_title('Test samples')\n",
    "\n",
    "plt.show()\n"
   ]
  }
 ],
 "metadata": {
  "kernelspec": {
   "display_name": "Python 3",
   "language": "python",
   "name": "python3"
  },
  "language_info": {
   "codemirror_mode": {
    "name": "ipython",
    "version": 3
   },
   "file_extension": ".py",
   "mimetype": "text/x-python",
   "name": "python",
   "nbconvert_exporter": "python",
   "pygments_lexer": "ipython3",
   "version": "3.11.5"
  }
 },
 "nbformat": 4,
 "nbformat_minor": 2
}
